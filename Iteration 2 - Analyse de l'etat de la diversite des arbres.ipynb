{
 "cells": [
  {
   "cell_type": "markdown",
   "metadata": {},
   "source": [
    "# Itération 2\n",
    "## Analyse de l’état de la diversité des arbres\n",
    "\n",
    "### Objectifs de l’activité\n",
    "\n",
    "● Analyser la répartition des espèces d’arbres à Grenoble, l’évolution de cette diversité au cours du temps, comparaison avec les objectifs de la Métro en terme de diversification des espèces. \n",
    "● Utilisation d’autres structures de données : Sets, Dict\n",
    "\n",
    "### Contexte\n",
    "\n",
    "Diversifier les essences d’arbres en ville est crucial pour de nombreuses raisons : résilience des écosystèmes urbains, lutte contre les îlots de chaleur, renouvellement de l’air, etc. Or, le constat fait par la Métropole de Grenoble est que la diversité des arbres est faible sur le territoire (voir ci-dessous).\n",
    "\n",
    "### Constat : Une faible diversité des arbres en ville\n",
    "\n",
    "Une faible diversité du patrimoine arboré dans les villes est observée, c’est aussi le cas au sein du territoire de Grenoble-Alpes Métropole. Aussi, des efforts pour diversifier les plantations sont faits depuis plusieurs années.\n",
    "\n",
    "#### La diversité des arbres en ville\n",
    "\n",
    "La diversité des arbres en ville est considérée comme bonne, d’après la règle du 10-20-30.\n",
    "\n",
    "● pas plus de 10% d'une espèce;\n",
    "● pas plus de 20% d'un genre;\n",
    "● pas plus de 30% d'une famille (règles respectée sur le territoire);\n",
    "\n",
    "Cependant, planter le bon arbre, au bon endroit, et s’assurer de sa croissance par des études climatiques, pédologiques, des contraintes du lieu de plantation est aussi un moyen de s’assurer d’un maintien de la diversité arborée."
   ]
  },
  {
   "cell_type": "markdown",
   "metadata": {},
   "source": [
    "### Consignes\n",
    "\n",
    "● Pour commencer identifiez tous les genres botaniques représentés à Grenoble. Combien y en a-t-il ? Plusieurs manières de résoudre ce problème :\n",
    "\n",
    "  ○ Essayez différentes méthodes et chronométrez les temps d’exécution de vos instructions.Comparez avec les autres membres de votre groupe et essayez de comprendre les différences"
   ]
  },
  {
   "cell_type": "code",
   "execution_count": 2,
   "metadata": {},
   "outputs": [],
   "source": [
    "# Import tree csv file as dictionary\n",
    "import csv\n",
    "\n",
    "filename = '/home/campus-5/Documents/Project_arbre 2019 01 16/0. Data/ESP_PUBLIC.IDENTITE_ARBRE.csv'\n",
    "\n",
    "with open(filename, 'r') as file:\n",
    "    tree_reader = csv.DictReader(file, delimiter=',')\n",
    "    dict_tree_full = [];\n",
    "    for row in tree_reader:\n",
    "        dict_tree_full.append(row);"
   ]
  },
  {
   "cell_type": "code",
   "execution_count": 6,
   "metadata": {},
   "outputs": [
    {
     "name": "stdout",
     "output_type": "stream",
     "text": [
      "112\n"
     ]
    }
   ],
   "source": [
    "# Method 1:\n",
    "\n",
    "## Make a list of genres:\n",
    "\n",
    "list_genus_full = []\n",
    "\n",
    "for gn in dict_tree_full:\n",
    "    list_genus_full.append(gn['GENRE_BOTA'])\n",
    "\n",
    "## Idetify the unique values:\n",
    "list_genus_unq = []\n",
    "\n",
    "for x in list_genus_full:\n",
    "    if x != '' and x not in list_genus_unq:\n",
    "        list_genus_unq.append(x)\n",
    "print(len(list_genus_unq))\n",
    "\n",
    "##############################################################\n",
    "# Method 2: (use the set function) - this method is faster\n",
    "\n",
    "# list_genus_unq = []\n",
    "\n",
    "# for gn in dict_tree_full:\n",
    "#     list_genus_unq.append(gn['GENRE_BOTA'])\n",
    "\n",
    "# list_genus_unq = set(list_genus_unq)\n",
    "# list_genus_unq.remove('')\n",
    "\n",
    "# print(len(list_genus_unq))\n",
    "\n",
    "##############################################################\n",
    "# Method 3: (use panda) - this method is the fastest"
   ]
  },
  {
   "cell_type": "markdown",
   "metadata": {},
   "source": [
    "● Identifiez maintenant toutes les espèces différentes présentes à Grenoble.N’oubliez pas que les espèces sont une sous catégorie de genre botanique !(l’espèce est ‘Platanus Acerifolia’ et pas uniquement ‘Acerifolia’)"
   ]
  },
  {
   "cell_type": "code",
   "execution_count": 28,
   "metadata": {},
   "outputs": [
    {
     "name": "stdout",
     "output_type": "stream",
     "text": [
      "372\n"
     ]
    }
   ],
   "source": [
    "# Create a list of genus + species\n",
    "list_genus_species_full = []\n",
    "\n",
    "for x in dict_tree_full:\n",
    "    genus = x['GENRE_BOTA']\n",
    "    species = x['ESPECE']\n",
    "    list_genus_species_full.append((genus + ' ' + species))\n",
    "    \n",
    "# Find the unique elements in genus + species list by using set()\n",
    "list_genus_species_unq = set(list_genus_species_full)\n",
    "\n",
    "print(len(list_genus_species_unq))\n",
    "\n",
    "##############################################################\n",
    "##ALTERNATIVELY\n",
    "## Create a full list of species\n",
    "# list_species_full = []\n",
    "\n",
    "# for sp in dict_tree_full:\n",
    "#     list_species_full.append(sp['ESPECE'])\n",
    "\n",
    "# ## Merge the full list of genus with the full list of species\n",
    "# list_genus_species_full = list(zip(list_genus_full, list_species_full))\n",
    "\n",
    "# ## List unique items in the list of genus + species\n",
    "# list_genus_species_unq = []\n",
    "\n",
    "# for x in list_genus_species_full:\n",
    "#     if x not in list_genus_species_unq:\n",
    "#         list_genus_species_unq.append(x)\n",
    "# print(len(list_genus_species_unq))"
   ]
  },
  {
   "cell_type": "markdown",
   "metadata": {},
   "source": [
    "● En utilisant la structure de données *Dict* compter le nombre de représentants de chaque genre botanique :"
   ]
  },
  {
   "cell_type": "code",
   "execution_count": 43,
   "metadata": {},
   "outputs": [
    {
     "name": "stdout",
     "output_type": "stream",
     "text": [
      "Acer\n"
     ]
    }
   ],
   "source": [
    "tree_by_genus = {}\n",
    "\n",
    "for x in list_genus_unq:\n",
    "    tree_by_genus[x] = list_genus_full.count(x)\n",
    "\n",
    "# ○ Quels sont les genres botaniques les plus représentés ?"
   ]
  },
  {
   "cell_type": "markdown",
   "metadata": {},
   "source": [
    "  ○ Quels sont les genres botaniques les plus représentés ?"
   ]
  },
  {
   "cell_type": "code",
   "execution_count": null,
   "metadata": {},
   "outputs": [],
   "source": [
    "# Make a list of just the count\n",
    "tbg_list = []\n",
    "for i in tree_by_genus:\n",
    "    tbg = tree_by_genus[i]\n",
    "    tbg_list.append(tbg)\n",
    "\n",
    "# Find the max of the count and see which genus it corresponds to\n",
    "for genus, count in tree_by_genus.items():  \n",
    "    if count == max(tbg_list):\n",
    "        print('Most common genus: ' + genus)\n",
    "        \n",
    "##############################################################\n",
    "## ALTERNATIVELY - using counter\n",
    "# # En utilisant la structure de données ​ Dict ​ compter le nombre de représentants de chaque genre botanique :\n",
    "# from collections import Counter\n",
    "\n",
    "# Counter(list_genus_full)\n",
    "\n",
    "# # ○ Quels sont les genres botaniques les plus représentés ?\n",
    "# import re\n",
    "# Counter(list_genus_full).most_common(1)"
   ]
  },
  {
   "cell_type": "markdown",
   "metadata": {},
   "source": [
    "  ○ Quelle est la proportion par rapport au total ? "
   ]
  },
  {
   "cell_type": "code",
   "execution_count": 47,
   "metadata": {},
   "outputs": [
    {
     "name": "stdout",
     "output_type": "stream",
     "text": [
      "17.008130081300813\n",
      "Oui. Acer n'a dépassé pas la limite de 20% d'un genre.\n"
     ]
    }
   ],
   "source": [
    "# Find the max number of trees by genus and divide that by sum times by 100\n",
    "print(max(tbg_list)/sum(tbg_list)*100)"
   ]
  },
  {
   "cell_type": "markdown",
   "metadata": {},
   "source": [
    "  ○ Les objectifs de la Métro sont-ils respectés en terme de diversité ?"
   ]
  },
  {
   "cell_type": "code",
   "execution_count": null,
   "metadata": {},
   "outputs": [],
   "source": [
    "print(\"Oui. Acer n'a dépassé pas la limite de 20% d'un genre.\")"
   ]
  },
  {
   "cell_type": "markdown",
   "metadata": {},
   "source": [
    "  ○ Listez tous les représentants uniques de leurs genre botanique"
   ]
  },
  {
   "cell_type": "code",
   "execution_count": 46,
   "metadata": {},
   "outputs": [
    {
     "name": "stdout",
     "output_type": "stream",
     "text": [
      "{'Parrotia': 54, 'Morus': 97, 'Metasequoia': 83, 'Trachycarpus': 22, 'Eriobotrya ': 3, 'Rhamnus': 1, 'Magnolia': 420, 'Hovenia': 2, 'Amélanchier': 137, 'Sterculia': 1, 'Styrax': 3, 'Ptelea': 4, 'Buxus': 15, 'Sambucus': 35, 'Taxodium': 10, 'Tilia': 1747, 'Fontanesia': 4, 'Salix': 143, 'Calocedrus': 5, 'Lagerstroemia': 52, 'Populus': 933, 'Ginkgo': 111, 'Pterostyrax': 6, 'Aesculus': 460, 'Cedrus': 404, 'Sequoiadendron': 14, 'Pterocarya': 53, 'Chionanthus': 49, 'Rhus': 7, 'Broussonetia': 23, 'Chamaecyparis': 366, 'Cupressus': 200, 'Sequoia': 1, 'Ligustrum': 8, 'Clerodendron': 5, 'Gymnocladus': 8, 'Zelkova': 245, 'Robinia': 276, 'Ulmus': 215, 'Larix': 5, 'Malus': 300, 'Photinia': 10, 'Paulownia': 103, 'Pyrus': 537, 'Koelreuteria': 266, 'Syringa': 41, 'Sophora': 429, 'Nyssa': 1, 'Cercis': 327, 'Halesia': 10, 'Pteroceltis': 13, 'Fraxinus': 1441, 'Ostrya': 44, 'Cupressocyparis': 98, 'Abies': 28, 'Catalpa': 151, 'Liriodendron': 509, 'Sorbus': 91, 'Pinus': 2073, 'Eucalyptus': 1, 'Cryptomeria': 2, 'Gleditsia': 354, 'Eleagnus': 16, 'Platanus': 4616, 'Albizia': 64, 'Betula': 1211, 'Pistacia': 7, 'Ailanthus': 79, 'Prunus': 1051, 'Poncinos': 1, 'Cercidiphyllum': 7, 'Cephalotaxus': 3, 'Sciadopitys': 1, 'Picea': 237, 'Laburnum': 12, 'Tetradium': 85, 'Phellodendron': 13, 'Punica': 4, 'Celtis': 213, 'Cotinus': 11, 'Mespilus': 9, 'Sorbopyrus': 1, 'Cladastris': 44, 'Juniperus': 4, 'Staphylea': 1, 'Maclura': 6, 'Crataegus': 109, 'Acer': 5230, 'Cydonia': 15, 'Alnus': 813, 'Corylus': 194, 'Cornus': 23, 'Diospyros': 20, 'Cedrela': 45, 'Olea': 5, 'Chimonanthus': 3, 'Liquidambar': 799, 'Quercus': 698, 'Libocedrus': 47, 'Phillyrea': 3, 'Taxus': 204, 'Juglans': 68, 'Ilex': 29, 'Castanea': 1, 'Carpinus': 1332, 'Lonicera': 6, 'Ficus': 22, 'Thuja': 47, 'Chitalpa': 7, 'Davidia': 7, 'Araucaria': 2, 'Fagus': 269}\n"
     ]
    }
   ],
   "source": [
    "print(tree_by_genus)"
   ]
  },
  {
   "cell_type": "markdown",
   "metadata": {},
   "source": [
    "● Idem précédemment mais en comptant les espèces."
   ]
  },
  {
   "cell_type": "code",
   "execution_count": 40,
   "metadata": {},
   "outputs": [
    {
     "name": "stdout",
     "output_type": "stream",
     "text": [
      "Platanus acerifolia\n"
     ]
    }
   ],
   "source": [
    "# Make a dictionary of the number of trees by species \n",
    "tree_by_species = {}\n",
    "\n",
    "for x in list_genus_species_unq:\n",
    "    tree_by_species[x] = list_genus_species_full.count(x)\n",
    "\n",
    "# To find the most common species, first make a list of just the count...\n",
    "tbs_list = []\n",
    "for i in tree_by_species:\n",
    "    tbs = tree_by_species[i]\n",
    "    tbs_list.append(tbs)\n",
    "\n",
    "# ...then find the max of the count and see which genus it corresponds to\n",
    "for species, count in tree_by_species.items():  \n",
    "    if count == max(tbs_list):\n",
    "        print('Most common species: ' + species)"
   ]
  },
  {
   "cell_type": "code",
   "execution_count": 41,
   "metadata": {},
   "outputs": [
    {
     "name": "stdout",
     "output_type": "stream",
     "text": [
      "13.73923429936506\n",
      "Non. Platanus acerifolia a dépassé la limite de 10% d'une espèce.\n"
     ]
    }
   ],
   "source": [
    "# Find the proportion of the most common species relative to the total\n",
    "print(max(tbs_list)/sum(tbs_list)*100)\n",
    "\n",
    "# Answer to the question: Les objectifs de la Métro sont-ils respectés en terme de diversité ?\n",
    "print(\"Non. Platanus acerifolia a dépassé la limite de 10% d'une espèce.\")"
   ]
  },
  {
   "cell_type": "code",
   "execution_count": 42,
   "metadata": {},
   "outputs": [
    {
     "name": "stdout",
     "output_type": "stream",
     "text": [
      "{'Platanus acerifolia': 4371, 'Amélanchier grandiflora': 1, 'Salix triandra': 5, 'Robinia platanoides': 1, 'Quercus myrsinifolia': 4, 'Aesculus hippocastanum': 425, 'Salix viminalis': 17, 'Pyrus communis': 40, 'Cedrus deodara': 77, 'Calocedrus decurrens': 2, 'Platanus platanor': 83, 'Acer carpinifolia': 2, 'Chionanthus retusus': 38, 'Taxodium ': 1, 'Sambucus nigra': 33, 'Ficus carica': 19, 'Quercus fraxinifolia': 1, 'Sophora ': 10, 'Prunus subhirtella': 21, 'Alnus incana': 13, 'Morus alba': 24, 'Alnus spaethii': 76, 'Tilia euchlora': 2, 'Sequoia sempervirens': 1, 'Cercidiphyllum magnificum': 1, 'Fagus sylvatica': 265, 'Acer japonicum': 3, 'Tilia americana': 87, 'Betula utilis': 366, 'Celtis julianae': 1, 'Ulmus resista': 24, 'Sequoiadendron giganteum': 8, 'Sorbus torminalis': 15, 'Metasequoia glyptostroboides': 81, 'Prunus persica': 7, 'Prunus avium': 152, 'Abies concolor': 5, 'Chamaecyparis formosensis': 1, 'Populus tremula': 17, 'Cedrela sinensis': 45, 'Magnolia hybride': 3, 'Ulmus minor': 144, 'Abies pinsapo': 2, 'Acer ginnala': 49, 'Broussonetia papyrifera': 23, 'Prunus accolade': 2, 'Prunus armeniaca': 2, 'Poncinos ': 1, 'Juniperus virginiana': 1, 'Aesculus parviflora': 2, 'Pterocarya stenoptera': 6, 'Acer buergerianum': 20, 'Ulmus glabra': 11, 'Acer platanoides': 1097, 'Prunus serrulata': 416, 'Cephalotaxus harringtonia': 3, 'Paulownia tomentosa': 80, 'Salix alba': 41, 'Tilia platyphyllos': 262, 'Aesculus chandelle seche': 2, 'Larix decidua': 5, 'Ptelea ': 1, 'Acer freemanii': 55, 'Koelreuteria paniculata': 266, 'Carpinus ': 7, 'Ulmus parvifolia': 1, 'Prunus amygdalus': 3, 'Paulownia fortunei': 23, 'Acer cappadocicum': 201, 'Acer negundo': 175, 'Fraxinus mariesii': 7, 'Taxus ': 4, 'Picea abies': 192, 'Pinus pinea': 2, 'Juglans nigra': 36, 'Zelkova ': 13, 'Alnus ': 20, 'Syringa persica': 2, 'Diospyros lotus': 8, 'Amélanchier alnifolia': 3, 'Cydonia oblonga': 13, 'Cornus mas': 10, 'Salix matsudana': 5, 'Liquidambar orientalis': 2, 'Fraxinus quadrangulata': 1, 'Prunus tomentosa': 1, 'Celtis sinensis': 45, 'Cedrus atlantica': 312, 'Laburnum watereri': 1, 'Pterostyrax hispida': 6, 'Diospyros virginiana': 6, 'Prunus schmittii': 8, 'Cercis chinensis': 4, 'Laburnum anagyroides': 11, 'Celtis ': 27, 'Cladastris lutea': 44, 'Ligustrum ibota': 3, 'Punica granatum': 3, 'Juniperus drupacea': 1, 'Tilia ': 92, 'Acer ': 841, 'Thuja occidentalis': 6, 'Fontanesia phillyreoides': 4, 'Acer palmatum': 2, 'Parrotia persica': 54, 'Maclura pomifera': 5, 'Crataegus oxyacantha': 42, 'Picea engelmanii': 1, 'Tilia europaea': 7, 'Pinus wallichiana': 18, 'Amélanchier laevis': 1, 'Ostrya ': 1, 'Clerodendron tricotonum': 5, 'Cupressus arizonica': 58, 'Staphylea bumalda': 1, 'Ulmus campestre': 16, 'Fagus ': 4, 'Salix purpurea': 5, 'Punica ': 1, 'Ilex ': 3, 'Platanus ': 74, 'Eucalyptus gunii': 1, 'Corylus ': 21, 'Pinus mugo': 1, 'Morus ': 12, 'Trachycarpus fortunei': 22, 'Photinia villosa': 10, 'Fraxinus oxycarpa': 125, 'Rhus typhina': 6, 'Magnolia stellata': 2, 'Malus perpetu': 28, 'Corylus colurna': 149, 'Ligustrum sinense': 3, 'Sorbus domestica': 4, 'Quercus falcata': 2, 'Quercus cerris': 222, 'Quercus phellos': 1, 'Picea exelsa': 4, 'Populus robusta': 199, 'Pinus nigra': 1276, 'Fraxinus pennsylvanica': 24, 'Prunus cerasus': 28, 'Magnolia kobus': 19, 'Prunus serotina': 2, 'Prunus lusitanica': 6, 'Acer monspessulanum': 76, 'Araucaria exelsa': 1, 'Cryptomeria japonica': 2, 'Prunus cerasifera': 102, 'Acer utilis': 1, 'Cercis ': 2, 'Fraxinus mandshurica': 18, 'Quercus palustris': 19, 'Quercus ilex': 18, 'Fraxinus excelsior': 771, 'Eriobotrya  japonica': 3, 'Cornus controversa': 7, 'Chimonanthus praecox': 3, 'Prunus spinosa': 31, 'Ilex aquifolium': 26, 'Quercus variabilis': 3, 'Quercus frainetto': 31, 'Acer capillipes': 13, 'Malus royalty': 1, 'Pinus strobus': 1, 'Salix babylonica': 7, 'Acer opalus': 1, 'Prunus yedoensis': 12, 'Morus bombycis': 25, 'Gleditsia ': 9, 'Sorbus aucuparia': 4, 'Ginkgo biloba': 111, 'Malus sieboldii': 12, 'Prunus ': 124, 'Carpinus orientalis': 14, 'Prunus dulcis': 6, 'Acer zoeschense': 1, 'Crataegus ': 29, 'Maclura ': 1, 'Acer triflorum': 2, 'Sophora japonica': 419, 'Rhamnus alaternus': 1, 'Malus floribunda': 131, ' ': 1064, 'Cydonia ': 1, 'Cercis siliquastrum': 318, 'Robinia ': 1, 'Pyrus ': 37, 'Betula papyrifera': 23, 'Thuja plicata': 18, 'Salix ': 54, 'Acer griseum': 5, 'Pistacia chinensis': 7, 'Quercus petraea': 100, 'Quercus ': 89, 'Buxus sempervirens': 15, 'Tetradium daniellii': 85, 'Lagerstroemia indica': 52, 'Pyrus elaeagnifolia': 1, 'Malus hupehensis': 3, 'Acer hippocastanum': 1, 'Catalpa ': 25, 'Acer nikoense': 2, 'Picea orientalis': 17, 'Liquidambar styraciflua': 794, 'Cupressocyparis leylandii': 98, 'Robinia pseudoacacia': 274, 'Populus italica': 6, 'Betula alba': 86, 'Malus domestica': 70, 'Ulmus carpinifolia': 2, 'Sorbus ': 18, 'Magnolia serrulata': 1, 'Populus alba': 111, 'Magnolia soulangeana': 41, 'Liriodendron tulipifera': 507, 'Prunus domestica': 25, 'Liquidambar tulipifera': 1, 'Cercis canadensis': 2, 'Populus simonii': 7, 'Lonicera ': 3, 'Abies nordmanniana': 20, 'Magnolia liliflora': 1, 'Quercus acutissima': 6, 'Cedrus libani': 9, 'Prunus padus': 90, 'Malus pumila': 2, 'Betula ': 3, 'Sorbopyrus auricularis': 1, 'Chamaecyparis nootkatensis': 2, 'Quercus castaneifolia': 62, 'Aesculus ': 10, 'Crataegus lavallei': 4, 'Sterculia ': 1, 'Ailanthus altissima': 79, 'Pyrus calleryana': 438, 'Salix caprea': 4, 'Phillyrea latifolia': 3, 'Crataegus laevigata': 14, 'Cornus florida': 6, 'Pyrus nivalis': 11, 'Pinus ': 219, 'Halesia carolina': 9, 'Malus tschonoskii': 13, 'Pyrus amygdaliformis': 10, 'Gleditsia triacanthos': 345, 'Rhus thyphina': 1, 'Cotinus coggygria': 11, 'Aesculus pavia': 3, 'Populus nigra': 483, 'Juniperus ': 2, 'Chamaecyparis pisifera': 1, 'Acer pseudoplatanus': 1304, 'Quercus suber': 17, 'Cupressus sempervirens': 139, 'Mespilus ': 2, 'Diospyros kaki': 5, 'Sciadopitys verticillata': 1, 'Fraxinus ornus': 113, 'Cedrus sinensis': 1, 'Eleagnus angustifolia': 16, 'Crataegus splendens': 1, 'Juglans ': 1, 'Prunus campanulata': 2, 'Syringa vulgaris': 31, 'Sequoiadendron sempervirens': 6, 'Zelkova crenata': 2, 'Fraxinus angustifolia': 161, 'Hovenia dulcis': 2, 'Amélanchier ': 38, 'Chionanthus virginicus': 5, 'Ptelea trifoliata': 3, 'Corylus avellana': 24, 'Prunus incisa': 1, 'Magnolia grandiflora': 321, 'Abies koreana': 1, 'Acer tartarica': 2, 'Cedrus ': 5, 'Crataegus monogyna': 17, 'Nyssa sylvatica': 1, 'Styrax japonica': 3, 'Crataegus crus-galli': 2, 'Prunus mahaleb': 1, 'Taxodium distychum': 9, 'Thuja ': 23, 'Betula nigra': 34, 'Quercus robur': 94, 'Cercis sinensis': 1, 'Fraxinus americana': 111, 'Sorbus latifolia': 3, 'Picea pungens': 12, 'Magnolia heptapeta': 1, 'Quercus macrocarpa': 1, 'Magnolia ': 31, 'Sorbus aria': 43, 'Amélanchier canadensis': 72, 'Tilia cordata': 254, 'Davidia involucrata': 7, 'Amélanchier ovalis': 8, 'Syringa amurensis': 8, 'Castanea sativa': 1, 'Halesia monticola': 1, 'Pteroceltis ': 1, 'Aesculus carnea': 18, 'Juglans regia': 31, 'Fraxinus velutina': 58, 'Prunus laurocerasus': 9, 'Salix sepulcralis': 3, 'Carpinus betulus': 1311, 'Picea omorika': 4, 'Diospyros ': 1, 'Pterocarya fraxinifolia': 45, 'Ulmus ': 17, 'Libocedrus decurrens': 47, 'Pterocarya ': 2, 'Celtis occidentalis': 8, 'Quercus rubra': 25, 'Pteroceltis tatarinowii': 12, 'Quercus hispanica': 1, 'Cupressus nootkatensis': 3, 'Quercus coccinea': 1, 'Araucaria araucana': 1, 'Amélanchier lamarckii': 14, 'Lonicera fragmantissima': 3, 'Sorbus chamaemespilus': 1, 'Metasequoia ': 2, 'Acer grosseri': 3, 'Cercidiphyllum japonicum': 6, 'Zelkova serrata': 230, 'Fraxinus ': 41, 'Cydonia vulgaris': 1, 'Chitalpa tashkentensis': 7, 'Acer davidii': 7, 'Betula pendula': 17, 'Albizia ': 64, 'Populus ': 110, 'Chionanthus ': 6, 'Olea europaea': 5, 'Ligustrum japonicum': 2, 'Calocedrus ': 3, 'Sambucus ': 2, 'Acer campestre': 850, 'Salix rosmarinifolia': 2, 'Gymnocladus dioicus': 8, 'Betula verrucosa': 682, 'Malus ': 31, 'Mespilus germanica': 7, 'Tilia henryana': 33, 'Alnus glutinosa': 178, 'Tilia mongolica': 24, 'Ficus ': 3, 'Phellodendron amurense': 13, 'Tilia tomentosa': 986, 'Alnus cordata': 526, 'Acer heldreichii': 2, 'Fraxinus sieboldiana': 11, 'Quercus heterophylla': 1, 'Morus nigra': 36, 'Liriodendron ': 2, 'Acer rubrum': 22, 'Acer saccharinum': 493, 'Chamaecyparis lawsoniana': 362, 'Picea ': 7, 'Sorbus cuspidata': 3, 'Celtis australis': 132, 'Catalpa bignonoides': 126, 'Malus baccata': 9, 'Platanus orientalis': 88, 'Ostrya carpinifolia': 43, 'Taxus baccata': 200, 'Liquidambar ': 2, 'Pinus sylvestris': 556}\n"
     ]
    }
   ],
   "source": [
    "# List all the unique species:\n",
    "print(tree_by_species)"
   ]
  },
  {
   "cell_type": "markdown",
   "metadata": {},
   "source": [
    "● Comment la pratique de plantation a-t-elle évolué au cours du temps ? Diversifie-t-on plus maintenant qu’avant ? Vos analyses sont-elles en accord avec le communiqué de presse ? (plus dur)"
   ]
  }
 ],
 "metadata": {
  "kernelspec": {
   "display_name": "Python 3",
   "language": "python",
   "name": "python3"
  },
  "language_info": {
   "codemirror_mode": {
    "name": "ipython",
    "version": 3
   },
   "file_extension": ".py",
   "mimetype": "text/x-python",
   "name": "python",
   "nbconvert_exporter": "python",
   "pygments_lexer": "ipython3",
   "version": "3.7.4"
  }
 },
 "nbformat": 4,
 "nbformat_minor": 2
}
