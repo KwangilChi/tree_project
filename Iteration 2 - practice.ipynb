{
 "cells": [
  {
   "cell_type": "markdown",
   "metadata": {},
   "source": [
    "# Itération 2\n",
    "## Analyse de l’état de la diversité des arbres\n",
    "\n",
    "### Objectifs de l’activité\n",
    "\n",
    "● Analyser la répartition des espèces d’arbres à Grenoble, l’évolution de cette diversité au cours du temps, comparaison avec les objectifs de la Métro en terme de diversification des espèces. \n",
    "● Utilisation d’autres structures de données : Sets, Dict\n",
    "\n",
    "### Contexte\n",
    "\n",
    "Diversifier les essences d’arbres en ville est crucial pour de nombreuses raisons : résilience des écosystèmes urbains, lutte contre les îlots de chaleur, renouvellement de l’air, etc. Or, le constat fait par la Métropole de Grenoble est que la diversité des arbres est faible sur le territoire (voir ci-dessous).\n",
    "\n",
    "### Constat : Une faible diversité des arbres en ville\n",
    "\n",
    "Une faible diversité du patrimoine arboré dans les villes est observée, c’est aussi le cas au sein du territoire de Grenoble-Alpes Métropole. Aussi, des efforts pour diversifier les plantations sont faits depuis plusieurs années.\n",
    "\n",
    "#### La diversité des arbres en ville\n",
    "\n",
    "La diversité des arbres en ville est considérée comme bonne, d’après la règle du 10-20-30.\n",
    "\n",
    "● pas plus de 10% d'une espèce;\n",
    "● pas plus de 20% d'un genre;\n",
    "● pas plus de 30% d'une famille (règles respectée sur le territoire);\n",
    "\n",
    "Cependant, planter le bon arbre, au bon endroit, et s’assurer de sa croissance par des études climatiques, pédologiques, des contraintes du lieu de plantation est aussi un moyen de s’assurer d’un maintien de la diversité arborée."
   ]
  },
  {
   "cell_type": "markdown",
   "metadata": {},
   "source": [
    "### Consignes\n",
    "\n",
    "● Pour commencer identifiez tous les genres botaniques représentés à Grenoble. Combien y en a-t-il ? Plusieurs manières de résoudre ce problème :\n",
    "\n",
    "  ○ Essayez différentes méthodes et chronométrez les temps d’exécution de vos instructions.Comparez avec les autres membres de votre groupe et essayez de comprendre les différences"
   ]
  },
  {
   "cell_type": "code",
   "execution_count": 34,
   "metadata": {},
   "outputs": [],
   "source": [
    "# Import tree csv file as dictionary\n",
    "import csv\n",
    "\n",
    "filename = '/home/campus-5/Documents/Project_arbre 2019 01 16/0. Data/ESP_PUBLIC.IDENTITE_ARBRE.csv'\n",
    "\n",
    "with open(filename, 'r') as file:\n",
    "    tree_reader = csv.DictReader(file, delimiter=',')\n",
    "    dict_tree_full = [];\n",
    "    for row in tree_reader:\n",
    "        dict_tree_full.append(row);"
   ]
  },
  {
   "cell_type": "code",
   "execution_count": 13,
   "metadata": {},
   "outputs": [
    {
     "name": "stdout",
     "output_type": "stream",
     "text": [
      "112\n"
     ]
    }
   ],
   "source": [
    "# Method 1:\n",
    "\n",
    "## Make a list of genres:\n",
    "\n",
    "list_genus_full = []\n",
    "\n",
    "for gn in dict_tree_full:\n",
    "    list_genus_full.append(gn['GENRE_BOTA'])\n",
    "\n",
    "## Idetify the unique values:\n",
    "list_genus_unq = []\n",
    "\n",
    "for x in list_genus_full:\n",
    "    if x != '' and x not in list_genus_unq:\n",
    "        list_genus_unq.append(x)\n",
    "print(len(list_genus_unq))\n",
    "\n",
    "##############################################################\n",
    "# Method 2: (use the set function) - this method is faster\n",
    "\n",
    "# list_genus_unq = []\n",
    "\n",
    "# for gn in dict_tree_full:\n",
    "#     list_genus_unq.append(gn['GENRE_BOTA'])\n",
    "\n",
    "# list_genus_unq = set(list_genus_unq)\n",
    "# list_genus_unq.remove('')\n",
    "\n",
    "# print(len(list_genus_unq))\n",
    "\n",
    "##############################################################\n",
    "# Method 3: (use panda) - this method is the fastest"
   ]
  },
  {
   "cell_type": "markdown",
   "metadata": {},
   "source": [
    "● Identifiez maintenant toutes les espèces différentes présentes à Grenoble.N’oubliez pas que les espèces sont une sous catégorie de genre botanique !(l’espèce est ‘Platanus Acerifolia’ et pas uniquement ‘Acerifolia’)"
   ]
  },
  {
   "cell_type": "code",
   "execution_count": 14,
   "metadata": {},
   "outputs": [
    {
     "name": "stdout",
     "output_type": "stream",
     "text": [
      "372\n"
     ]
    }
   ],
   "source": [
    "# Create a list of genus + species\n",
    "list_genus_species_full = []\n",
    "\n",
    "for x in dict_tree_full:\n",
    "    genus = x['GENRE_BOTA']\n",
    "    species = x['ESPECE']\n",
    "    list_genus_species_full.append((genus + ' ' + species))\n",
    "    \n",
    "# Find the unique elements in genus + species list by using set()\n",
    "list_genus_species_unq = set(list_genus_species_full)\n",
    "\n",
    "print(len(list_genus_species_unq))\n",
    "\n",
    "##############################################################\n",
    "##ALTERNATIVELY\n",
    "## Create a full list of species\n",
    "# list_species_full = []\n",
    "\n",
    "# for sp in dict_tree_full:\n",
    "#     list_species_full.append(sp['ESPECE'])\n",
    "\n",
    "# ## Merge the full list of genus with the full list of species\n",
    "# list_genus_species_full = list(zip(list_genus_full, list_species_full))\n",
    "\n",
    "# ## List unique items in the list of genus + species\n",
    "# list_genus_species_unq = []\n",
    "\n",
    "# for x in list_genus_species_full:\n",
    "#     if x not in list_genus_species_unq:\n",
    "#         list_genus_species_unq.append(x)\n",
    "# print(len(list_genus_species_unq))"
   ]
  },
  {
   "cell_type": "markdown",
   "metadata": {},
   "source": [
    "● En utilisant la structure de données *Dict* compter le nombre de représentants de chaque genre botanique :"
   ]
  },
  {
   "cell_type": "code",
   "execution_count": 15,
   "metadata": {},
   "outputs": [],
   "source": [
    "tree_by_genus = {}\n",
    "\n",
    "for x in list_genus_unq:\n",
    "    tree_by_genus[x] = list_genus_full.count(x)\n",
    "\n",
    "# ○ Quels sont les genres botaniques les plus représentés ?"
   ]
  },
  {
   "cell_type": "markdown",
   "metadata": {},
   "source": [
    "  ○ Quels sont les genres botaniques les plus représentés ?"
   ]
  },
  {
   "cell_type": "code",
   "execution_count": 16,
   "metadata": {},
   "outputs": [
    {
     "name": "stdout",
     "output_type": "stream",
     "text": [
      "Most common genus: Acer\n"
     ]
    }
   ],
   "source": [
    "# Make a list of just the count\n",
    "tbg_list = []\n",
    "for i in tree_by_genus:\n",
    "    tbg = tree_by_genus[i]\n",
    "    tbg_list.append(tbg)\n",
    "\n",
    "# Find the max of the count and see which genus it corresponds to\n",
    "for genus, count in tree_by_genus.items():  \n",
    "    if count == max(tbg_list):\n",
    "        print('Most common genus: ' + genus)\n",
    "        \n",
    "##############################################################\n",
    "## ALTERNATIVELY - using counter\n",
    "# # En utilisant la structure de données ​ Dict ​ compter le nombre de représentants de chaque genre botanique :\n",
    "# from collections import Counter\n",
    "\n",
    "# Counter(list_genus_full)\n",
    "\n",
    "# # ○ Quels sont les genres botaniques les plus représentés ?\n",
    "# import re\n",
    "# Counter(list_genus_full).most_common(1)"
   ]
  },
  {
   "cell_type": "markdown",
   "metadata": {},
   "source": [
    "  ○ Quelle est la proportion par rapport au total ? "
   ]
  },
  {
   "cell_type": "code",
   "execution_count": 17,
   "metadata": {},
   "outputs": [
    {
     "name": "stdout",
     "output_type": "stream",
     "text": [
      "17.008130081300813\n"
     ]
    }
   ],
   "source": [
    "# Find the max number of trees by genus and divide that by sum times by 100\n",
    "print(max(tbg_list)/sum(tbg_list)*100)"
   ]
  },
  {
   "cell_type": "markdown",
   "metadata": {},
   "source": [
    "  ○ Les objectifs de la Métro sont-ils respectés en terme de diversité ?"
   ]
  },
  {
   "cell_type": "code",
   "execution_count": 18,
   "metadata": {},
   "outputs": [
    {
     "name": "stdout",
     "output_type": "stream",
     "text": [
      "Oui. Acer n'a dépassé pas la limite de 20% d'un genre.\n"
     ]
    }
   ],
   "source": [
    "print(\"Oui. Acer n'a dépassé pas la limite de 20% d'un genre.\")"
   ]
  },
  {
   "cell_type": "markdown",
   "metadata": {},
   "source": [
    "  ○ Listez tous les représentants uniques de leurs genre botanique"
   ]
  },
  {
   "cell_type": "code",
   "execution_count": 19,
   "metadata": {},
   "outputs": [
    {
     "name": "stdout",
     "output_type": "stream",
     "text": [
      "{'Acer': 5230, 'Quercus': 698, 'Salix': 143, 'Robinia': 276, 'Fraxinus': 1441, 'Prunus': 1051, 'Platanus': 4616, 'Liriodendron': 509, 'Pinus': 2073, 'Chamaecyparis': 366, 'Rhus': 7, 'Koelreuteria': 266, 'Cercis': 327, 'Celtis': 213, 'Populus': 933, 'Carpinus': 1332, 'Alnus': 813, 'Ulmus': 215, 'Sambucus': 35, 'Picea': 237, 'Betula': 1211, 'Liquidambar': 799, 'Sophora': 429, 'Tilia': 1747, 'Cedrus': 404, 'Fagus': 269, 'Diospyros': 20, 'Malus': 300, 'Catalpa': 151, 'Ilex': 29, 'Cupressus': 200, 'Aesculus': 460, 'Chionanthus': 49, 'Pyrus': 537, 'Juglans': 68, 'Albizia': 64, 'Gleditsia': 354, 'Zelkova': 245, 'Mespilus': 9, 'Pterocarya': 53, 'Pistacia': 7, 'Phellodendron': 13, 'Amélanchier': 137, 'Taxus': 204, 'Taxodium': 10, 'Crataegus': 109, 'Magnolia': 420, 'Parrotia': 54, 'Pteroceltis': 13, 'Morus': 97, 'Ginkgo': 111, 'Tetradium': 85, 'Corylus': 194, 'Thuja': 47, 'Castanea': 1, 'Paulownia': 103, 'Cephalotaxus': 3, 'Lagerstroemia': 52, 'Davidia': 7, 'Ostrya': 44, 'Sorbus': 91, 'Cladastris': 44, 'Juniperus': 4, 'Buxus': 15, 'Cercidiphyllum': 7, 'Maclura': 6, 'Chitalpa': 7, 'Halesia': 10, 'Sorbopyrus': 1, 'Hovenia': 2, 'Ptelea': 4, 'Poncinos': 1, 'Libocedrus': 47, 'Abies': 28, 'Sciadopitys': 1, 'Sequoiadendron': 14, 'Cotinus': 11, 'Eleagnus': 16, 'Cupressocyparis': 98, 'Ailanthus': 79, 'Ficus': 22, 'Cydonia': 15, 'Metasequoia': 83, 'Cornus': 23, 'Calocedrus': 5, 'Ligustrum': 8, 'Olea': 5, 'Syringa': 41, 'Laburnum': 12, 'Araucaria': 2, 'Fontanesia': 4, 'Broussonetia': 23, 'Styrax': 3, 'Eucalyptus': 1, 'Phillyrea': 3, 'Staphylea': 1, 'Trachycarpus': 22, 'Eriobotrya ': 3, 'Larix': 5, 'Clerodendron': 5, 'Cryptomeria': 2, 'Sequoia': 1, 'Pterostyrax': 6, 'Photinia': 10, 'Gymnocladus': 8, 'Lonicera': 6, 'Nyssa': 1, 'Punica': 4, 'Cedrela': 45, 'Rhamnus': 1, 'Chimonanthus': 3, 'Sterculia': 1}\n"
     ]
    }
   ],
   "source": [
    "print(tree_by_genus)"
   ]
  },
  {
   "cell_type": "markdown",
   "metadata": {},
   "source": [
    "● Idem précédemment mais en comptant les espèces."
   ]
  },
  {
   "cell_type": "code",
   "execution_count": 20,
   "metadata": {},
   "outputs": [
    {
     "name": "stdout",
     "output_type": "stream",
     "text": [
      "Most common species: Platanus acerifolia\n"
     ]
    }
   ],
   "source": [
    "# Make a dictionary of the number of trees by species \n",
    "tree_by_species = {}\n",
    "\n",
    "for x in list_genus_species_unq:\n",
    "    tree_by_species[x] = list_genus_species_full.count(x)\n",
    "\n",
    "# To find the most common species, first make a list of just the count...\n",
    "tbs_list = []\n",
    "for i in tree_by_species:\n",
    "    tbs = tree_by_species[i]\n",
    "    tbs_list.append(tbs)\n",
    "\n",
    "# ...then find the max of the count and see which genus it corresponds to\n",
    "for species, count in tree_by_species.items():  \n",
    "    if count == max(tbs_list):\n",
    "        print('Most common species: ' + species)"
   ]
  },
  {
   "cell_type": "code",
   "execution_count": 21,
   "metadata": {},
   "outputs": [
    {
     "name": "stdout",
     "output_type": "stream",
     "text": [
      "13.73923429936506\n",
      "Non. Platanus acerifolia a dépassé la limite de 10% d'une espèce.\n"
     ]
    }
   ],
   "source": [
    "# Find the proportion of the most common species relative to the total\n",
    "print(max(tbs_list)/sum(tbs_list)*100)\n",
    "\n",
    "# Answer to the question: Les objectifs de la Métro sont-ils respectés en terme de diversité ?\n",
    "print(\"Non. Platanus acerifolia a dépassé la limite de 10% d'une espèce.\")"
   ]
  },
  {
   "cell_type": "code",
   "execution_count": 22,
   "metadata": {},
   "outputs": [
    {
     "name": "stdout",
     "output_type": "stream",
     "text": [
      "{'Tilia americana': 87, 'Castanea sativa': 1, 'Maclura pomifera': 5, 'Pteroceltis tatarinowii': 12, 'Prunus serotina': 2, 'Sequoiadendron sempervirens': 6, 'Acer saccharinum': 493, 'Phellodendron amurense': 13, 'Celtis australis': 132, 'Salix sepulcralis': 3, 'Acer cappadocicum': 201, 'Fraxinus mariesii': 7, 'Malus sieboldii': 12, 'Sorbus latifolia': 3, 'Calocedrus decurrens': 2, 'Acer griseum': 5, 'Juglans ': 1, 'Salix caprea': 4, 'Quercus heterophylla': 1, 'Pyrus nivalis': 11, 'Betula alba': 86, 'Parrotia persica': 54, 'Pyrus amygdaliformis': 10, 'Cercis chinensis': 4, 'Acer tartarica': 2, 'Chamaecyparis lawsoniana': 362, 'Eucalyptus gunii': 1, 'Picea pungens': 12, 'Olea europaea': 5, 'Eriobotrya  japonica': 3, 'Aesculus chandelle seche': 2, 'Acer nikoense': 2, 'Acer opalus': 1, 'Morus ': 12, 'Ailanthus altissima': 79, 'Ilex aquifolium': 26, 'Magnolia hybride': 3, 'Ulmus minor': 144, 'Sorbopyrus auricularis': 1, 'Sorbus ': 18, 'Quercus myrsinifolia': 4, 'Crataegus lavallei': 4, 'Acer zoeschense': 1, 'Maclura ': 1, 'Diospyros kaki': 5, 'Punica granatum': 3, 'Halesia carolina': 9, 'Cedrus libani': 9, 'Pterocarya stenoptera': 6, 'Morus bombycis': 25, 'Mespilus ': 2, 'Prunus subhirtella': 21, 'Magnolia ': 31, 'Quercus castaneifolia': 62, 'Thuja plicata': 18, 'Prunus yedoensis': 12, 'Aesculus ': 10, 'Ptelea ': 1, 'Fraxinus oxycarpa': 125, 'Salix matsudana': 5, 'Thuja ': 23, 'Celtis sinensis': 45, 'Magnolia grandiflora': 321, 'Prunus amygdalus': 3, 'Cladastris lutea': 44, 'Malus pumila': 2, 'Pinus wallichiana': 18, 'Chimonanthus praecox': 3, 'Hovenia dulcis': 2, 'Alnus cordata': 526, 'Acer japonicum': 3, 'Poncinos ': 1, 'Aesculus hippocastanum': 425, 'Robinia pseudoacacia': 274, 'Acer platanoides': 1097, 'Cercis canadensis': 2, 'Cotinus coggygria': 11, 'Populus tremula': 17, 'Prunus campanulata': 2, 'Crataegus monogyna': 17, 'Acer rubrum': 22, 'Pyrus calleryana': 438, 'Cedrus atlantica': 312, 'Prunus spinosa': 31, 'Sambucus nigra': 33, 'Fraxinus americana': 111, 'Lonicera ': 3, 'Libocedrus decurrens': 47, 'Abies nordmanniana': 20, 'Sorbus aria': 43, 'Cupressocyparis leylandii': 98, 'Platanus acerifolia': 4371, 'Quercus rubra': 25, 'Fraxinus sieboldiana': 11, 'Cydonia ': 1, 'Juglans nigra': 36, 'Araucaria exelsa': 1, 'Prunus domestica': 25, 'Prunus schmittii': 8, 'Ginkgo biloba': 111, 'Amélanchier laevis': 1, 'Cedrus deodara': 77, 'Ligustrum ibota': 3, 'Ulmus campestre': 16, 'Juniperus virginiana': 1, 'Prunus ': 124, 'Ulmus carpinifolia': 2, 'Acer freemanii': 55, 'Magnolia kobus': 19, 'Prunus persica': 7, 'Chionanthus ': 6, 'Taxus ': 4, 'Fraxinus quadrangulata': 1, 'Acer capillipes': 13, 'Fraxinus excelsior': 771, 'Prunus incisa': 1, 'Sorbus chamaemespilus': 1, 'Ficus carica': 19, 'Crataegus laevigata': 14, 'Malus tschonoskii': 13, 'Cydonia vulgaris': 1, 'Aesculus pavia': 3, 'Liquidambar tulipifera': 1, 'Picea orientalis': 17, 'Quercus macrocarpa': 1, 'Magnolia soulangeana': 41, 'Malus perpetu': 28, 'Tilia cordata': 254, 'Lonicera fragmantissima': 3, 'Thuja occidentalis': 6, 'Chamaecyparis nootkatensis': 2, 'Carpinus betulus': 1311, 'Paulownia fortunei': 23, 'Crataegus ': 29, 'Carpinus ': 7, 'Rhamnus alaternus': 1, 'Acer davidii': 7, 'Acer palmatum': 2, 'Fraxinus angustifolia': 161, 'Taxodium distychum': 9, 'Sorbus aucuparia': 4, 'Liriodendron tulipifera': 507, 'Acer triflorum': 2, 'Magnolia stellata': 2, 'Prunus armeniaca': 2, 'Prunus tomentosa': 1, 'Abies concolor': 5, 'Corylus avellana': 24, 'Abies koreana': 1, 'Cercidiphyllum japonicum': 6, 'Chitalpa tashkentensis': 7, 'Calocedrus ': 3, 'Platanus ': 74, 'Platanus orientalis': 88, 'Morus nigra': 36, 'Cornus florida': 6, 'Cryptomeria japonica': 2, 'Pterocarya ': 2, 'Sorbus domestica': 4, 'Prunus mahaleb': 1, 'Acer grosseri': 3, 'Liquidambar ': 2, 'Malus baccata': 9, 'Picea engelmanii': 1, 'Betula pendula': 17, 'Buxus sempervirens': 15, 'Tilia tomentosa': 986, 'Betula ': 3, 'Pterostyrax hispida': 6, 'Pterocarya fraxinifolia': 45, 'Platanus platanor': 83, 'Sorbus torminalis': 15, 'Acer heldreichii': 2, 'Quercus cerris': 222, 'Cornus mas': 10, 'Ulmus glabra': 11, 'Liquidambar styraciflua': 794, 'Acer buergerianum': 20, 'Malus hupehensis': 3, 'Ulmus ': 17, 'Quercus fraxinifolia': 1, 'Tilia euchlora': 2, 'Chionanthus virginicus': 5, 'Eleagnus angustifolia': 16, 'Cercis sinensis': 1, 'Prunus cerasus': 28, 'Sequoia sempervirens': 1, 'Acer pseudoplatanus': 1304, 'Malus royalty': 1, 'Quercus petraea': 100, 'Ficus ': 3, 'Fraxinus mandshurica': 18, 'Pistacia chinensis': 7, 'Morus alba': 24, 'Acer monspessulanum': 76, 'Phillyrea latifolia': 3, 'Acer ginnala': 49, 'Tilia ': 92, 'Metasequoia glyptostroboides': 81, 'Punica ': 1, 'Ostrya ': 1, 'Fraxinus pennsylvanica': 24, 'Salix rosmarinifolia': 2, 'Laburnum watereri': 1, 'Celtis ': 27, 'Fagus sylvatica': 265, 'Crataegus crus-galli': 2, 'Alnus ': 20, 'Prunus padus': 90, 'Malus domestica': 70, 'Chionanthus retusus': 38, 'Pyrus elaeagnifolia': 1, 'Syringa persica': 2, 'Betula papyrifera': 23, 'Salix ': 54, 'Acer hippocastanum': 1, 'Sophora ': 10, 'Amélanchier ': 38, 'Picea ': 7, 'Gleditsia triacanthos': 345, 'Broussonetia papyrifera': 23, 'Cornus controversa': 7, 'Diospyros ': 1, 'Fontanesia phillyreoides': 4, 'Acer campestre': 850, 'Fraxinus ': 41, 'Catalpa bignonoides': 126, 'Cupressus nootkatensis': 3, 'Robinia platanoides': 1, 'Picea abies': 192, 'Liquidambar orientalis': 2, 'Davidia involucrata': 7, 'Ptelea trifoliata': 3, 'Amélanchier ovalis': 8, 'Photinia villosa': 10, 'Taxus baccata': 200, 'Quercus phellos': 1, 'Betula utilis': 366, 'Corylus colurna': 149, 'Ostrya carpinifolia': 43, 'Pyrus communis': 40, 'Zelkova serrata': 230, 'Sciadopitys verticillata': 1, 'Sophora japonica': 419, 'Liriodendron ': 2, 'Albizia ': 64, 'Alnus incana': 13, 'Prunus laurocerasus': 9, 'Salix babylonica': 7, 'Pinus nigra': 1276, 'Rhus typhina': 6, 'Trachycarpus fortunei': 22, 'Ligustrum sinense': 3, 'Gleditsia ': 9, 'Pteroceltis ': 1, 'Quercus frainetto': 31, 'Catalpa ': 25, 'Taxodium ': 1, 'Halesia monticola': 1, 'Abies pinsapo': 2, 'Sambucus ': 2, 'Aesculus parviflora': 2, 'Sterculia ': 1, 'Syringa vulgaris': 31, 'Lagerstroemia indica': 52, 'Corylus ': 21, 'Larix decidua': 5, 'Metasequoia ': 2, 'Koelreuteria paniculata': 266, 'Juniperus ': 2, 'Amélanchier grandiflora': 1, 'Quercus variabilis': 3, 'Betula nigra': 34, 'Populus robusta': 199, 'Picea omorika': 4, 'Magnolia serrulata': 1, 'Quercus palustris': 19, 'Ilex ': 3, 'Populus alba': 111, 'Cephalotaxus harringtonia': 3, 'Cercis ': 2, 'Amélanchier canadensis': 72, 'Diospyros virginiana': 6, 'Juniperus drupacea': 1, 'Cupressus sempervirens': 139, 'Picea exelsa': 4, 'Cedrela sinensis': 45, 'Acer carpinifolia': 2, 'Juglans regia': 31, 'Cedrus sinensis': 1, 'Salix viminalis': 17, 'Gymnocladus dioicus': 8, 'Tetradium daniellii': 85, 'Alnus glutinosa': 178, ' ': 1064, 'Ligustrum japonicum': 2, 'Quercus coccinea': 1, 'Acer utilis': 1, 'Staphylea bumalda': 1, 'Betula verrucosa': 682, 'Quercus ': 89, 'Fraxinus ornus': 113, 'Populus nigra': 483, 'Ulmus parvifolia': 1, 'Populus italica': 6, 'Quercus ilex': 18, 'Malus ': 31, 'Salix purpurea': 5, 'Paulownia tomentosa': 80, 'Diospyros lotus': 8, 'Sequoiadendron giganteum': 8, 'Malus floribunda': 131, 'Carpinus orientalis': 14, 'Acer ': 841, 'Quercus hispanica': 1, 'Cercis siliquastrum': 318, 'Pinus sylvestris': 556, 'Styrax japonica': 3, 'Clerodendron tricotonum': 5, 'Salix alba': 41, 'Chamaecyparis pisifera': 1, 'Quercus falcata': 2, 'Tilia platyphyllos': 262, 'Zelkova ': 13, 'Prunus dulcis': 6, 'Fagus ': 4, 'Cydonia oblonga': 13, 'Quercus suber': 17, 'Prunus lusitanica': 6, 'Mespilus germanica': 7, 'Populus ': 110, 'Prunus cerasifera': 102, 'Acer negundo': 175, 'Aesculus carnea': 18, 'Tilia henryana': 33, 'Syringa amurensis': 8, 'Magnolia heptapeta': 1, 'Populus simonii': 7, 'Fraxinus velutina': 58, 'Tilia mongolica': 24, 'Prunus accolade': 2, 'Pinus strobus': 1, 'Crataegus splendens': 1, 'Pyrus ': 37, 'Salix triandra': 5, 'Araucaria araucana': 1, 'Magnolia liliflora': 1, 'Tilia europaea': 7, 'Alnus spaethii': 76, 'Celtis occidentalis': 8, 'Prunus serrulata': 416, 'Amélanchier alnifolia': 3, 'Laburnum anagyroides': 11, 'Ulmus resista': 24, 'Pinus mugo': 1, 'Pinus ': 219, 'Nyssa sylvatica': 1, 'Pinus pinea': 2, 'Quercus acutissima': 6, 'Cupressus arizonica': 58, 'Cercidiphyllum magnificum': 1, 'Amélanchier lamarckii': 14, 'Zelkova crenata': 2, 'Quercus robur': 94, 'Sorbus cuspidata': 3, 'Cedrus ': 5, 'Crataegus oxyacantha': 42, 'Robinia ': 1, 'Chamaecyparis formosensis': 1, 'Prunus avium': 152, 'Celtis julianae': 1, 'Rhus thyphina': 1}\n"
     ]
    }
   ],
   "source": [
    "# List all the unique species:\n",
    "print(tree_by_species)"
   ]
  },
  {
   "cell_type": "markdown",
   "metadata": {},
   "source": [
    "● Comment la pratique de plantation a-t-elle évolué au cours du temps ? Diversifie-t-on plus maintenant qu’avant ? Vos analyses sont-elles en accord avec le communiqué de presse ? (plus dur)"
   ]
  },
  {
   "cell_type": "markdown",
   "metadata": {},
   "source": [
    "-- plot total number of trees and number of trees planted by year"
   ]
  },
  {
   "cell_type": "code",
   "execution_count": 45,
   "metadata": {},
   "outputs": [
    {
     "ename": "SyntaxError",
     "evalue": "invalid syntax (<ipython-input-45-4430211f3f1d>, line 20)",
     "output_type": "error",
     "traceback": [
      "\u001b[0;36m  File \u001b[0;32m\"<ipython-input-45-4430211f3f1d>\"\u001b[0;36m, line \u001b[0;32m20\u001b[0m\n\u001b[0;31m    total_tree_per_year[int(yr)] = (counter += 1 for int(yr) in list_year_full_asc if yr != '')\u001b[0m\n\u001b[0m                                             ^\u001b[0m\n\u001b[0;31mSyntaxError\u001b[0m\u001b[0;31m:\u001b[0m invalid syntax\n"
     ]
    }
   ],
   "source": [
    "# # First make a dictionary of the number of trees planted per year \n",
    "\n",
    "# ## Full list of year planted\n",
    "# list_year_full = list(yr['ANNEEDEPLANTATION'] for yr in dict_tree_full)\n",
    "\n",
    "# ## Import Counter\n",
    "# from collections import Counter\n",
    "\n",
    "# ## Count the total number of trees planted per year\n",
    "# tree_per_year = Counter(int(y) for y in list_year_full if y != '')\n",
    "\n",
    "# # Then make a dictionary of the total number of trees per year \n",
    "\n",
    "# ## Arrange the tree_per_year into an ascending order\n",
    "# list_year_full_asc = sorted(list_year_full)\n",
    "\n",
    "## \n",
    "total_tree_per_year = {}\n",
    "counter = 0 \n",
    "total_tree_per_year[int(yr)] = counter += 1 for int(yr) in list_year_full_asc if yr != ''\n",
    "\n",
    "total_tree_per_year\n",
    "\n",
    "# counter = 0\n",
    "# for yr in dict_tree_full:\n",
    "#     if yr['ANNEEDEPLANTATION'] != '' and int(yr['ANNEEDEPLANTATION']) >= int(start_year) and int(yr['ANNEEDEPLANTATION']) <= int(end_year):\n",
    "#         counter += 1\n",
    "# tree_by_mayor[(first_name + ' ' + last_name)] = counter"
   ]
  }
 ],
 "metadata": {
  "kernelspec": {
   "display_name": "Python 3",
   "language": "python",
   "name": "python3"
  },
  "language_info": {
   "codemirror_mode": {
    "name": "ipython",
    "version": 3
   },
   "file_extension": ".py",
   "mimetype": "text/x-python",
   "name": "python",
   "nbconvert_exporter": "python",
   "pygments_lexer": "ipython3",
   "version": "3.7.4"
  }
 },
 "nbformat": 4,
 "nbformat_minor": 2
}
