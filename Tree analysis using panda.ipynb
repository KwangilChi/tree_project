{
 "cells": [
  {
   "cell_type": "markdown",
   "metadata": {},
   "source": [
    "# Itération 1\n",
    "\n",
    "## A l’aide du notebook, vous écrirez maintenant du code (uniquement à l’aide du module *csv* de la librairie standard dans un premier temps) permettant de :\n",
    "\n",
    "### Lire les deux premières ligne du *csv* des arbres de Grenoble (module *csv*, voir doc officielle). Que représentent elles ?"
   ]
  },
  {
   "cell_type": "code",
   "execution_count": 1,
   "metadata": {},
   "outputs": [],
   "source": [
    "import pandas as pd\n",
    "\n",
    "filename = '/home/campus-5/Documents/Project_arbre 2019 01 16/0. Data/ESP_PUBLIC.IDENTITE_ARBRE.csv'\n",
    "\n",
    "tree_df = pd.read_csv(filename)"
   ]
  },
  {
   "cell_type": "markdown",
   "metadata": {},
   "source": [
    "### Extraire l’information concernant l’année de plantation pour l’ensemble des lignes (*rows*) et stocker ces informations dans une variable de type *List*."
   ]
  },
  {
   "cell_type": "code",
   "execution_count": 2,
   "metadata": {},
   "outputs": [],
   "source": [
    "year_planted_full = tree_df['ANNEEDEPLANTATION']"
   ]
  },
  {
   "cell_type": "markdown",
   "metadata": {},
   "source": [
    "### Afficher les 50 premières lignes et les 50 dernières lignes de cette liste."
   ]
  },
  {
   "cell_type": "code",
   "execution_count": 3,
   "metadata": {},
   "outputs": [
    {
     "data": {
      "text/plain": [
       "0       NaN\n",
       "1       NaN\n",
       "2       NaN\n",
       "3       NaN\n",
       "4       NaN\n",
       "         ..\n",
       "31809   NaN\n",
       "31810   NaN\n",
       "31811   NaN\n",
       "31812   NaN\n",
       "31813   NaN\n",
       "Name: ANNEEDEPLANTATION, Length: 100, dtype: float64"
      ]
     },
     "execution_count": 3,
     "metadata": {},
     "output_type": "execute_result"
    }
   ],
   "source": [
    "year_planted_full[0:50] + year_planted_full[-50:]"
   ]
  },
  {
   "cell_type": "markdown",
   "metadata": {},
   "source": [
    "### Pour combien d’arbres manque-t-il l’information concernant la date de plantation ?"
   ]
  },
  {
   "cell_type": "code",
   "execution_count": 4,
   "metadata": {},
   "outputs": [
    {
     "data": {
      "text/plain": [
       "30422"
      ]
     },
     "execution_count": 4,
     "metadata": {},
     "output_type": "execute_result"
    }
   ],
   "source": [
    "year_planted_full.index.size - year_planted_full.isnull().sum()\n",
    "# df.index.size - Return the number of elements in the underlying data."
   ]
  },
  {
   "cell_type": "markdown",
   "metadata": {},
   "source": [
    "### Extraire l’ensemble des lignes (*rows*) et stocker ces informations dans une variable de type *List*."
   ]
  },
  {
   "cell_type": "code",
   "execution_count": 5,
   "metadata": {},
   "outputs": [],
   "source": [
    "rows_list = tree_df.iloc[0:]"
   ]
  },
  {
   "cell_type": "markdown",
   "metadata": {},
   "source": [
    "### Combien d’arbres sont recensés dans ce jeu de données ?"
   ]
  },
  {
   "cell_type": "code",
   "execution_count": 6,
   "metadata": {},
   "outputs": [
    {
     "data": {
      "text/plain": [
       "31814"
      ]
     },
     "execution_count": 6,
     "metadata": {},
     "output_type": "execute_result"
    }
   ],
   "source": [
    "year_planted_full.index.size"
   ]
  },
  {
   "cell_type": "markdown",
   "metadata": {},
   "source": [
    "### Combien d’arbres ont été plantés en moyenne chaque année ?"
   ]
  },
  {
   "cell_type": "code",
   "execution_count": 11,
   "metadata": {},
   "outputs": [
    {
     "data": {
      "text/plain": [
       "447.38235294117646"
      ]
     },
     "execution_count": 11,
     "metadata": {},
     "output_type": "execute_result"
    }
   ],
   "source": [
    "# Calculate the total number of trees over the years divided by the range of years\n",
    "\n",
    "## First make a list of year planted without nulls \n",
    "year_planted = year_planted_full.dropna()\n",
    "\n",
    "## Calculate the total number of trees over the years divided by the range of years\n",
    "year_planted.index.size / (max(year_planted) - min(year_planted))"
   ]
  },
  {
   "cell_type": "markdown",
   "metadata": {},
   "source": [
    "### Afficher tous les arbres ayant été plantés l’année de votre naissance. "
   ]
  },
  {
   "cell_type": "code",
   "execution_count": 19,
   "metadata": {},
   "outputs": [
    {
     "data": {
      "text/plain": [
       "409"
      ]
     },
     "execution_count": 19,
     "metadata": {},
     "output_type": "execute_result"
    }
   ],
   "source": [
    "birth_year = 1990\n",
    "\n",
    "year_planted.value_counts()[birth_year]"
   ]
  },
  {
   "cell_type": "markdown",
   "metadata": {},
   "source": [
    "### Combien d’arbres ont été plantés depuis votre naissance ?"
   ]
  },
  {
   "cell_type": "code",
   "execution_count": 34,
   "metadata": {},
   "outputs": [
    {
     "data": {
      "text/plain": [
       "13048"
      ]
     },
     "execution_count": 34,
     "metadata": {},
     "output_type": "execute_result"
    }
   ],
   "source": [
    "year_planted[year_planted >= birth_year].index.size"
   ]
  },
  {
   "cell_type": "markdown",
   "metadata": {},
   "source": [
    "### Quel Maire a planté le plus d’arbre à Grenoble ?"
   ]
  },
  {
   "cell_type": "code",
   "execution_count": 37,
   "metadata": {},
   "outputs": [],
   "source": [
    "import pandas as pd\n",
    "\n",
    "filename_mayor = '/home/campus-5/Documents/Project_arbre 2019 01 16/0. Data/Maire.csv'\n",
    "\n",
    "mayor_df = pd.read_csv(filename_mayor)"
   ]
  },
  {
   "cell_type": "code",
   "execution_count": 38,
   "metadata": {},
   "outputs": [
    {
     "ename": "SyntaxError",
     "evalue": "invalid syntax (<ipython-input-38-bd7e8f454fd5>, line 1)",
     "output_type": "error",
     "traceback": [
      "\u001b[0;36m  File \u001b[0;32m\"<ipython-input-38-bd7e8f454fd5>\"\u001b[0;36m, line \u001b[0;32m1\u001b[0m\n\u001b[0;31m    tree_df['MAYOR'] = tree_df['ANNEEDEPLANTATION'].apply(lambda x: (mayor_df['FIRST_NAME'] + ' ' + mayor_df['LAST_NAME']) if x >= mayor_df['START'] and x <= mayor_df['END'])\u001b[0m\n\u001b[0m                                                                                                                                                                             ^\u001b[0m\n\u001b[0;31mSyntaxError\u001b[0m\u001b[0;31m:\u001b[0m invalid syntax\n"
     ]
    }
   ],
   "source": [
    "tree_df['MAYOR'] = tree_df['ANNEEDEPLANTATION'].apply(lambda x: (mayor_df['FIRST_NAME'] + ' ' + mayor_df['LAST_NAME']) if x >= mayor_df['START'] and x <= mayor_df['END'])\n",
    "\n",
    "\n"
   ]
  }
 ],
 "metadata": {
  "kernelspec": {
   "display_name": "Python 3",
   "language": "python",
   "name": "python3"
  },
  "language_info": {
   "codemirror_mode": {
    "name": "ipython",
    "version": 3
   },
   "file_extension": ".py",
   "mimetype": "text/x-python",
   "name": "python",
   "nbconvert_exporter": "python",
   "pygments_lexer": "ipython3",
   "version": "3.7.4"
  }
 },
 "nbformat": 4,
 "nbformat_minor": 2
}
